{
 "cells": [
  {
   "cell_type": "markdown",
   "id": "1eace138-51e2-476f-b28e-453d11a2ace9",
   "metadata": {},
   "source": [
    "# Course1-Project1: EdTech Backend System"
   ]
  },
  {
   "cell_type": "code",
   "execution_count": 19,
   "id": "0017b8a0-bb2e-41a8-8494-914cbdf37d0c",
   "metadata": {},
   "outputs": [
    {
     "name": "stdout",
     "output_type": "stream",
     "text": [
      "Name    : Alice\n",
      "Role    : Learner\n",
      "Email   : alice@gmail.com\n",
      "Password: 123\n",
      "Name    : Bob\n",
      "Role    : Instructor\n",
      "Email   : bob@gmail.com\n",
      "Password: None\n",
      "Wrong email\n"
     ]
    }
   ],
   "source": [
    "import hashlib\n",
    "from enum import Enum\n",
    "\n",
    "class Role(Enum):\n",
    "    LEARNER = \"Learner\"\n",
    "    INSTRUCTOR = \"Instructor\"\n",
    "        \n",
    "class User:\n",
    "    def __init__(self, name, role, email=None, password=None):\n",
    "        '''\n",
    "        'name' and 'role' are required at object creation.\n",
    "        'role' can be only either 'learner' or 'instructor'\n",
    "        'email' and 'password' are optional.\n",
    "        '''\n",
    "        if not isinstance(role,Role):\n",
    "            raise ValueError(\"role must be a member of Role Enum.\")\n",
    "            \n",
    "        self.name = name\n",
    "        self.role = role\n",
    "        self.email = email\n",
    "        #self.__password = password #private attr.\n",
    "        self.__password_hash = None\n",
    "\n",
    "        if password:\n",
    "            self.set_password(password)\n",
    "\n",
    "    def set_email(self, email):\n",
    "        self.email=email\n",
    "\n",
    "    def validate_email(self,email):\n",
    "        return self.email == email\n",
    "\n",
    "    def set_password(self, password):\n",
    "        '''\n",
    "        Hash the password using SHA-256 before storing it.\n",
    "        '''\n",
    "        # encode to bytes and hash with sha256\n",
    "        hashed = hashlib.sha256(password.encode(\"utf-8\")).hexdigest()\n",
    "        self.__password_hash = hashed\n",
    "\n",
    "    def validate_password(self,password):\n",
    "        return self.password == password\n",
    "\n",
    "    def print_info(self):\n",
    "        print(\"Name    :\", self.name)\n",
    "        print(\"Role    :\", self.role.value)\n",
    "        print(\"Email   :\", self.email)\n",
    "        print(\"Password:\",self.__password)\n",
    "\n",
    "\n",
    "\n",
    "u1 = User(\"Alice\", Role.LEARNER,\"alice@gmail.com\",\"123\")\n",
    "u2 = User(\"Bob\",Role.INSTRUCTOR)\n",
    "u1.print_info()\n",
    "u2.set_email(\"bob@gmail.com\")\n",
    "u2.print_info()\n",
    "if (not u2.validate_email(\"bob2@example.com\")):\n",
    "    print(\"Wrong email\")\n",
    "#help(u1)\n"
   ]
  },
  {
   "cell_type": "code",
   "execution_count": null,
   "id": "d7821c8c-87db-4724-bc05-eb864f34fb41",
   "metadata": {},
   "outputs": [],
   "source": []
  }
 ],
 "metadata": {
  "kernelspec": {
   "display_name": "Python 3 (ipykernel)",
   "language": "python",
   "name": "python3"
  },
  "language_info": {
   "codemirror_mode": {
    "name": "ipython",
    "version": 3
   },
   "file_extension": ".py",
   "mimetype": "text/x-python",
   "name": "python",
   "nbconvert_exporter": "python",
   "pygments_lexer": "ipython3",
   "version": "3.14.0"
  }
 },
 "nbformat": 4,
 "nbformat_minor": 5
}
