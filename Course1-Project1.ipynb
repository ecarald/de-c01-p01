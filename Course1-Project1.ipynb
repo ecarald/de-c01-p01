{
 "cells": [
  {
   "cell_type": "markdown",
   "id": "1eace138-51e2-476f-b28e-453d11a2ace9",
   "metadata": {},
   "source": [
    "# Course1-Project1: EdTech Backend System"
   ]
  },
  {
   "cell_type": "code",
   "execution_count": 49,
   "id": "0017b8a0-bb2e-41a8-8494-914cbdf37d0c",
   "metadata": {},
   "outputs": [
    {
     "name": "stdout",
     "output_type": "stream",
     "text": [
      "STL Tech Backend\n",
      "        Manage Users Method.\n",
      "        Options:\n",
      "            (1) - Add users\n",
      "            (2) - List users\n",
      "            (0) - Exit        \n",
      "        \n"
     ]
    },
    {
     "name": "stdin",
     "output_type": "stream",
     "text": [
      "Select option:  1\n"
     ]
    },
    {
     "name": "stdout",
     "output_type": "stream",
     "text": [
      "Add User\n"
     ]
    },
    {
     "name": "stdin",
     "output_type": "stream",
     "text": [
      "Full name: c\n"
     ]
    },
    {
     "name": "stdout",
     "output_type": "stream",
     "text": [
      "Select role for c\n"
     ]
    },
    {
     "name": "stdin",
     "output_type": "stream",
     "text": [
      "Choose either (1) for 'Learner' or (2) for 'Instructor':  1\n",
      "Email: e\n",
      "Password: e\n",
      "Select option:  0\n"
     ]
    },
    {
     "name": "stdout",
     "output_type": "stream",
     "text": [
      "Exit method. Bye!\n"
     ]
    }
   ],
   "source": [
    "import hashlib\n",
    "#from enum import Enum\n",
    "\n",
    "#class Role(Enum):\n",
    "#    LEARNER = \"Learner\"\n",
    "#    INSTRUCTOR = \"Instructor\"\n",
    "        \n",
    "class User:\n",
    "    counter = 0\n",
    "    \n",
    "    def __init__(self, name, role, email=None, password=None):\n",
    "        '''\n",
    "        'name' and 'role' are required at object creation.\n",
    "        'role' can be only either 'learner' or 'instructor'\n",
    "        'email' and 'password' are optional.\n",
    "        '''\n",
    "        #if not isinstance(role,Role):\n",
    "        #    raise ValueError(\"role must be a member of Role Enum.\")\n",
    "            \n",
    "        self.name = name\n",
    "        self.set_id(name)\n",
    "        self.role = role\n",
    "        self.email = email\n",
    "        #self.__password_hash = None OJO: No tengo que declarar ni definir todos los atr. en el contructor. Se definen por primera vez en los mét. que los usan\n",
    "\n",
    "        if password:\n",
    "            self.hash_password(password)\n",
    "            self.dotify_password(password)\n",
    "\n",
    "        User.counter +=1\n",
    "\n",
    "    def set_id(self,name):\n",
    "        # Encode the string and compute a hash (SHA-256)\n",
    "        hash_object = hashlib.sha256(name.encode('utf-8'))\n",
    "        # Convert the hexadecimal hash to an integer\n",
    "        self.id = int(hash_object.hexdigest(), 16)\n",
    "        # Take only part of it (e.g., last 10 digits)\n",
    "        self.id = self.id % (10**10)\n",
    "        \n",
    "    def set_email(self, email):\n",
    "        self.email=email\n",
    "\n",
    "    def hash_password(self, password):\n",
    "        '''\n",
    "        Hash the password using SHA-256 before storing it\n",
    "        '''\n",
    "        # encode to bytes and hash with sha256\n",
    "        hashed = hashlib.sha256(password.encode(\"utf-8\")).hexdigest()\n",
    "        self.__password_hash = hashed\n",
    "        \n",
    "    def dotify_password(self, password):\n",
    "        '''\n",
    "        Mask the password with dots\n",
    "        '''\n",
    "        self.dotified_password = '.' * len(password)\n",
    "\n",
    "    def validate_password(self,password):\n",
    "        \"\"\"\n",
    "        Check if a given password matches the stored hashed password.\n",
    "        \"\"\"\n",
    "        if self.__password_hash is None:\n",
    "            return False\n",
    "        hashed = hashlib.sha256(password.encode(\"utf-8\")).hexdigest()\n",
    "        return hashed == self.__password_hash\n",
    "        \n",
    "    def validate_email(self,email):\n",
    "        return self.email == email            \n",
    "\n",
    "    def set_role(self):\n",
    "        option = int(input(\"Choose either (1) for 'Learner' or (2) for 'Instructor': \"))\n",
    "        if option == 1:\n",
    "            self.role = \"Learner\"\n",
    "        elif option == 2:\n",
    "            self.role = \"Instructor\"\n",
    "        else:\n",
    "            raise ValueError(\"Wrong value\")\n",
    "            \n",
    "    def print_info(self):\n",
    "        print(\"Name    :\", self.name)\n",
    "        print(\"Id      :\", self.id)\n",
    "        print(\"Role    :\", self.role.value)\n",
    "        print(\"Email   :\", self.email)\n",
    "        print(\"Password:\", self.dotified_password)\n",
    "\n",
    "class SlttechBackend(User):\n",
    "    # no requiere constructor, pero tengo que 'override' porque hereda de User que sí requiere parámetros de entrada\n",
    "    def __init__(self):\n",
    "        pass\n",
    "    \n",
    "    #Version 1: Simple add_user method. Positive case where all parameters are always given. No checks. Password as readable text\n",
    "    # Version 2: Only name and role are mandatory attr\n",
    "    # Version 3: Type in password, but mask it\n",
    "    # Version 4: Check for proper email syntax - call validate-email?\n",
    "    def add_user(self): #v1\n",
    "        print(\"Add User\")\n",
    "        name = input('Full name:')\n",
    "        print(\"Select role for\", name)\n",
    "        role = self.set_role() # es un mét heredado de User\n",
    "        email = input('Email:')\n",
    "        password = input('Password:')\n",
    "\n",
    "        usr = User(name, role, email, password)\n",
    "    \n",
    "    def list_users(self):\n",
    "        pass\n",
    "        \n",
    "    def manage_users(self):\n",
    "        print(\"\"\"STL Tech Backend\n",
    "        Manage Users Method.\n",
    "        Options:\n",
    "            (1) - Add users\n",
    "            (2) - List users\n",
    "            (0) - Exit        \n",
    "        \"\"\")\n",
    "        while True:\n",
    "            option = int(input('Select option: '))\n",
    "            match option:\n",
    "                case 1:\n",
    "                    self.add_user()\n",
    "                case 2:\n",
    "                    print(\"List users\")\n",
    "                    self.list_users()\n",
    "                case 0:\n",
    "                    print(\"Exit method. Bye!\")\n",
    "                    break\n",
    "\n",
    "            \n",
    "\n",
    "\n",
    "# declaración programática de usuarios. Testing purpose\n",
    "#u1 = User(\"Alice\", Role.LEARNER,\"alice@gmail.com\",\"1234\")\n",
    "#u1.print_info()\n",
    "#u2 = User(\"Bob\",Role.INSTRUCTOR)\n",
    "#u1.print_info()\n",
    "#u2.set_email(\"bob@gmail.com\")\n",
    "#u2.print_info()\n",
    "#if (not u2.validate_email(\"bob2@example.com\")):\n",
    "#    print(\"Wrong email\")\n",
    "\n",
    "#u2.set_password(\"1234\")\n",
    "#if not u2.validate_password(\"1234\"):\n",
    "#    print(\"Wrong password\")\n",
    "#else:\n",
    "#    print(\"Password match\")\n",
    "#help(u1)\n",
    "\n",
    "be = SlttechBackend()\n",
    "be.manage_users()\n"
   ]
  },
  {
   "cell_type": "code",
   "execution_count": null,
   "id": "d7821c8c-87db-4724-bc05-eb864f34fb41",
   "metadata": {},
   "outputs": [],
   "source": []
  }
 ],
 "metadata": {
  "kernelspec": {
   "display_name": "Python 3 (ipykernel)",
   "language": "python",
   "name": "python3"
  },
  "language_info": {
   "codemirror_mode": {
    "name": "ipython",
    "version": 3
   },
   "file_extension": ".py",
   "mimetype": "text/x-python",
   "name": "python",
   "nbconvert_exporter": "python",
   "pygments_lexer": "ipython3",
   "version": "3.14.0"
  }
 },
 "nbformat": 4,
 "nbformat_minor": 5
}
